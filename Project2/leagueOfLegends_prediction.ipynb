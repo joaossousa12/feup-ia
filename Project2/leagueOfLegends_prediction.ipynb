{
 "cells": [
  {
   "cell_type": "markdown",
   "metadata": {},
   "source": [
    "# Supervised Learning\n",
    "\n",
    "## **League of Legends Game Prediction**\n",
    "\n",
    "![alt text](images/league_of_legends.jpeg)\n",
    "\n",
    "### **Introduction**\n",
    "\n",
    "The League of Legends Game Prediction is a project developed using different Supervised Learning algorithms with the intention to predict the outcome of a League of Legends match based on the first 15 minutes of a game, given by the dataset: *League of Legends SoloQ matches at 15 minutes 2024*.\n",
    "\n",
    "#### **About Dataset**\n",
    "\n",
    "This dataset contains data about the first 15 minutes of gameplay for over 24 thousand solo queue matches taken from european servers (EUNE and EUW).\n",
    "\n",
    "Average ELO of the matches is between mid emerald to high diamond.\n",
    "\n",
    "The main purpose of the dataset is to help train models for predicting the winner based on how the first 15 minutes of the match played out.\n",
    "\n",
    "There are 14 features for red, and 14 features for the blue team (feature blueTeamFirstBlood counts for both teams since it tells us which team got the first kill), with the target feature being blueWin. blueWin == 1 indicates a victory of the blue team, and blueWin == 0 means that the red team won.\n",
    "\n",
    "#### **Features**\n",
    "\n",
    "- **matchId** - ID of the League match\n",
    "- **blueTeamControlWardsPlaced/redTeamControlWardsPlaced** - control/pink wards placed by the blue/red team (can have outliers based on the possibility of the team giving up and buying a lot of wards at the end and placing them)\n",
    "- **blueTeamWardsPlaced/redTeamWardsPlaced** - all types of wards (control wards, yellow trinkets, ghost poro trinkets etc..) placed by the blue/red team\n",
    "- **blueTeamTotalKills/redTeamTotalKills** - total kills by the blue/red team, killing an enemy champion generates gold and experience\n",
    "- **blueTeamDragonKills/redTeamDragonKills** - total dragon kills by the blue/red team, dragons are elite monsters that give specific permanent buffs when killed and killing the 4th dragon gives the team dragon's soul\n",
    "- **blueTeamHeraldKills/redTeamHeraldKills** - total herald kills by the blue/red team, herald is a elite monster that helps in destroying the enemies buildings (turrets, inhibitors and the nexus) and pushing the lane\n",
    "- **blueTeamTowersDestroyed/redTeamTowersDestroyed** - total towers destroyed by the blue/red team, towers are defensive structures in a lane that target minions and champions\n",
    "- **blueTeamInhibitorsDestroyed/redTeamInhibitors** - total inhibitors destroyed by the blue/red team, inhibitor is a building protected by towers and when they are destroyed, they allow super minions to spawn on the side of the team that destroyed it\n",
    "- **blueTeamTurretPlatesDestroyed/redTeamTurretPlatesDestroyed** - total turret/tower plates destroyed by the blue/red team, turret plates are protective shields on towers that generate gold when they are destroyed and the completely fall off at the 14 minutes\n",
    "- **blueTeamFirstBlood/redTeamFirstBlood** - 1 blue team first blood, 0 red team first blood; first blood generates extra gold for the kill\n",
    "- **blueTeamMinionsKilled/redTeamMinionsKilled** - total minions killed by the blue/red team, minions generate gold and experience and are of the main sources of income in the game\n",
    "- **blueTeamJungleMinions/redTeamJungleMinions** - total jungle minions killed by the blue/red team, also generate gold, but the experience is gained only by the jungler\n",
    "- **blueTeamTotalGold/redTeamTotalGold** - total gold earned by the blue/red team from various sources (buildings, kills, assists, minons,..)\n",
    "- **blueTeamXp/redTeamXp** - total blue/red team experience, corelates to the total amount spent in lanes (a minion doesn't have to be killed by a champion to gain experience) and total amount of champions killed\n",
    "- **blueTeamTotalDamageToChamps/redTeamTotalDamageToChamps** - total damage done by the blue/red team to enemy champions\n",
    "- **blueWin** - 1 blue team win, 0 red team win\n",
    "\n",
    "## Made By:\n",
    "\n",
    "| Name | Email |\n",
    "|-|-|\n",
    "| João Guedes | up202108711@up.pt |\n",
    "| João Sousa | up202106996@up.pt |\n",
    "| Armando Martins | up201603566@up.pt |\n",
    "|---|---|\n",
    "| Group | T06 - G01 |"
   ]
  },
  {
   "cell_type": "markdown",
   "metadata": {},
   "source": [
    "## **Algorithms**\n",
    "\n",
    "The libraries used in this project are provided by Anaconda: Python, Anaconda, Jupyter Labs, NumPy, SciPy, Pandas, Scikit-Learn, MatPlotLib\n",
    "and Seaborn.\n"
   ]
  },
  {
   "cell_type": "code",
   "execution_count": null,
   "metadata": {},
   "outputs": [],
   "source": [
    "import pandas as pd\n",
    "import matplotlib.pyplot as plt\n",
    "import seaborn as sb"
   ]
  },
  {
   "cell_type": "code",
   "execution_count": null,
   "metadata": {},
   "outputs": [],
   "source": [
    "\n",
    "df = pd.read_csv('data/match_data_v5.csv')\n",
    "df.drop(df.columns[-1], axis=1, inplace=True)\n",
    "\n",
    "# remove duplicated matchId games\n",
    "df = df.drop_duplicates(subset='matchId')\n",
    "# remove (') char from matchId\n",
    "df['matchId'] = df['matchId'].str.replace(\"'\", \"\")\n",
    "\n",
    "df.head()"
   ]
  },
  {
   "cell_type": "markdown",
   "metadata": {},
   "source": []
  },
  {
   "cell_type": "code",
   "execution_count": null,
   "metadata": {},
   "outputs": [],
   "source": [
    "df.describe()"
   ]
  },
  {
   "cell_type": "code",
   "execution_count": null,
   "metadata": {},
   "outputs": [],
   "source": [
    "df.isna().any()"
   ]
  },
  {
   "cell_type": "markdown",
   "metadata": {},
   "source": [
    "Lets see if the win distribuition is well done, "
   ]
  },
  {
   "cell_type": "code",
   "execution_count": null,
   "metadata": {},
   "outputs": [],
   "source": [
    "blue_win_count = df[df[\"blueWin\"] == 1].count()[\"blueWin\"]\n",
    "red_win_count = df[df[\"blueWin\"] == 0].count()[\"blueWin\"]\n",
    "\n",
    "print(f'Blue team won {blue_win_count} games')\n",
    "print(f'Red team won {red_win_count} games')\n",
    "print(f'Diference between  {blue_win_count - red_win_count} games')"
   ]
  },
  {
   "cell_type": "markdown",
   "metadata": {},
   "source": [
    "All the data we have is referent to each one of the teams, for example, we have \"redTeamTotalKills\" and \"bueTeamTotalKills\", but the real value that matter for that game is the difference between those two value, of each team. This was we can reduce our data to half the values, and keep data integrety!\n"
   ]
  },
  {
   "cell_type": "code",
   "execution_count": null,
   "metadata": {},
   "outputs": [],
   "source": [
    "blue_columns = [col for col in df.columns if col.startswith('blue')][:-1]\n",
    "red_columns = [col for col in df.columns if col.startswith('red')]\n",
    "\n",
    "for (blue_col, red_col) in zip(blue_columns,red_columns):\n",
    "    df[f'{blue_col}_diff'] = df[blue_col] - df[red_col]\n",
    "\n",
    "df.drop(columns=blue_columns + red_columns, inplace=True)\n",
    "\n"
   ]
  },
  {
   "cell_type": "code",
   "execution_count": null,
   "metadata": {},
   "outputs": [],
   "source": [
    "blueWin_index = df.columns.get_loc('blueWin')\n",
    "\n",
    "# Move 'blueWin' column to the last position\n",
    "cols = list(df.columns)\n",
    "cols.append(cols.pop(blueWin_index))\n",
    "df = df[cols]"
   ]
  },
  {
   "cell_type": "markdown",
   "metadata": {},
   "source": [
    "Now the data is cleaned, we will save it in a csv file"
   ]
  },
  {
   "cell_type": "code",
   "execution_count": null,
   "metadata": {},
   "outputs": [],
   "source": [
    "df.to_csv('data/league_data_cleaned.csv', index=False)\n",
    "\n",
    "league_data_cleaned = pd.read_csv('data/league_data_cleaned.csv')"
   ]
  },
  {
   "cell_type": "markdown",
   "metadata": {},
   "source": [
    "Lets see if the game win distribution is well done, or if we need asserts"
   ]
  },
  {
   "cell_type": "code",
   "execution_count": null,
   "metadata": {},
   "outputs": [],
   "source": [
    "blue_win_count = league_data_cleaned[league_data_cleaned[\"blueWin\"] == 1].count()[\"blueWin\"]\n",
    "red_win_count = league_data_cleaned[league_data_cleaned[\"blueWin\"] == 0].count()[\"blueWin\"]\n",
    "\n",
    "print(f'Blue team won {blue_win_count} games')\n",
    "print(f'Red team won {red_win_count} games')\n",
    "print(f'Diference between blue and red wins: {blue_win_count - red_win_count} games')"
   ]
  },
  {
   "cell_type": "code",
   "execution_count": null,
   "metadata": {},
   "outputs": [],
   "source": [
    "# This line tells the notebook to show plots inside of the notebook\n",
    "%matplotlib inline\n",
    "\n",
    "pallete_lol= {0: 'red', 1: 'blue'}\n",
    "\n",
    "sb.pairplot(league_data_cleaned, hue='blueWin', palette=pallete_lol)"
   ]
  }
 ],
 "metadata": {
  "kernelspec": {
   "display_name": "venv",
   "language": "python",
   "name": "python3"
  },
  "language_info": {
   "codemirror_mode": {
    "name": "ipython",
    "version": 3
   },
   "file_extension": ".py",
   "mimetype": "text/x-python",
   "name": "python",
   "nbconvert_exporter": "python",
   "pygments_lexer": "ipython3",
   "version": "3.11.7"
  }
 },
 "nbformat": 4,
 "nbformat_minor": 2
}
