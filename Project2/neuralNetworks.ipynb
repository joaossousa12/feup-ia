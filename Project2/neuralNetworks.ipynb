{
 "cells": [
  {
   "cell_type": "code",
   "execution_count": 5,
   "metadata": {},
   "outputs": [],
   "source": [
    "import pandas as pd\n",
    "from sklearn.model_selection import train_test_split, GridSearchCV\n",
    "from sklearn.neural_network import MLPClassifier\n",
    "from sklearn.preprocessing import StandardScaler\n",
    "from sklearn.metrics import accuracy_score, confusion_matrix, classification_report"
   ]
  },
  {
   "cell_type": "code",
   "execution_count": 6,
   "metadata": {},
   "outputs": [
    {
     "name": "stdout",
     "output_type": "stream",
     "text": [
      "Accuracy: 0.7516515276630884\n",
      "Confusion Matrix:\n",
      "[[1831  644]\n",
      " [ 559 1810]]\n",
      "Classification Report:\n",
      "              precision    recall  f1-score   support\n",
      "\n",
      "           0       0.77      0.74      0.75      2475\n",
      "           1       0.74      0.76      0.75      2369\n",
      "\n",
      "    accuracy                           0.75      4844\n",
      "   macro avg       0.75      0.75      0.75      4844\n",
      "weighted avg       0.75      0.75      0.75      4844\n",
      "\n"
     ]
    }
   ],
   "source": [
    "data = pd.read_csv('data/league_data_cleaned.csv')\n",
    "\n",
    "# dropping the game ID column\n",
    "X = data.drop(columns=[data.columns[0], 'blueWin'])\n",
    "y = data['blueWin']\n",
    "\n",
    "# normalizing the feature data\n",
    "scaler = StandardScaler()\n",
    "X_scaled = scaler.fit_transform(X)\n",
    "\n",
    "# splitting the data into training and testing sets\n",
    "X_train, X_test, y_train, y_test = train_test_split(X_scaled, y, test_size=0.2, random_state=42)\n",
    "\n",
    "# hyperparameter tuning\n",
    "parameters = {\n",
    "    'hidden_layer_sizes': [(2,), (5,), (10,), (20,)],\n",
    "    'max_iter': [200, 300, 400],\n",
    "    'activation': ['relu', 'tanh'],\n",
    "    'solver': ['adam', 'sgd']\n",
    "}\n",
    "\n",
    "# defining the neural network model\n",
    "mlp = MLPClassifier(random_state=1)\n",
    "grid_search = GridSearchCV(mlp, parameters, cv=5, n_jobs=-1)\n",
    "grid_search.fit(X_train, y_train)\n",
    "best_params = grid_search.best_params_\n",
    "\n",
    "# defining the neural network model with the best hyperparameters\n",
    "mlp_best = MLPClassifier(**best_params, random_state=1)\n",
    "\n",
    "# training the model\n",
    "mlp_best.fit(X_train, y_train)\n",
    "\n",
    "# making predictions on the test set\n",
    "y_pred = mlp_best.predict(X_test)\n",
    "\n",
    "accuracy = accuracy_score(y_test, y_pred)\n",
    "conf_matrix = confusion_matrix(y_test, y_pred)\n",
    "class_report = classification_report(y_test, y_pred)\n",
    "\n",
    "print(f\"Accuracy: {accuracy}\")\n",
    "print(\"Confusion Matrix:\")\n",
    "print(conf_matrix)\n",
    "print(\"Classification Report:\")\n",
    "print(class_report)\n"
   ]
  }
 ],
 "metadata": {
  "kernelspec": {
   "display_name": "venv",
   "language": "python",
   "name": "python3"
  },
  "language_info": {
   "codemirror_mode": {
    "name": "ipython",
    "version": 3
   },
   "file_extension": ".py",
   "mimetype": "text/x-python",
   "name": "python",
   "nbconvert_exporter": "python",
   "pygments_lexer": "ipython3",
   "version": "3.12.3"
  }
 },
 "nbformat": 4,
 "nbformat_minor": 2
}
