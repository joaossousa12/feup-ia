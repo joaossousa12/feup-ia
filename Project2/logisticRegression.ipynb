{
 "cells": [
  {
   "cell_type": "code",
   "execution_count": 1,
   "metadata": {},
   "outputs": [],
   "source": [
    "import pandas as pd\n",
    "from sklearn.metrics import accuracy_score, confusion_matrix, classification_report\n",
    "from sklearn.linear_model import LogisticRegression\n",
    "from sklearn.model_selection import train_test_split\n",
    "from sklearn.preprocessing import StandardScaler"
   ]
  },
  {
   "cell_type": "markdown",
   "metadata": {},
   "source": [
    "# Logistic Regression"
   ]
  },
  {
   "cell_type": "code",
   "execution_count": 2,
   "metadata": {},
   "outputs": [
    {
     "name": "stdout",
     "output_type": "stream",
     "text": [
      "Accuracy: 0.7553674649050371\n",
      "Confusion Matrix:\n",
      "[[1850  625]\n",
      " [ 560 1809]]\n",
      "Classification Report:\n",
      "              precision    recall  f1-score   support\n",
      "\n",
      "           0       0.77      0.75      0.76      2475\n",
      "           1       0.74      0.76      0.75      2369\n",
      "\n",
      "    accuracy                           0.76      4844\n",
      "   macro avg       0.76      0.76      0.76      4844\n",
      "weighted avg       0.76      0.76      0.76      4844\n",
      "\n"
     ]
    }
   ],
   "source": [
    "data = pd.read_csv('data/league_data_cleaned.csv')\n",
    "\n",
    "# dropping the game ID column\n",
    "X = data.drop(columns=[data.columns[0], 'blueWin'])\n",
    "y = data['blueWin']\n",
    "\n",
    "# normalizing the feature data\n",
    "scaler = StandardScaler()\n",
    "X_scaled = scaler.fit_transform(X)\n",
    "\n",
    "# splitting the data into training and testing sets\n",
    "X_train, X_test, y_train, y_test = train_test_split(X_scaled, y, test_size=0.2, random_state=42)\n",
    "\n",
    "# defining the logistic regression model\n",
    "log_reg = LogisticRegression(max_iter=200, random_state=42)\n",
    "\n",
    "# training the model\n",
    "log_reg.fit(X_train, y_train)\n",
    "\n",
    "# making predictions on the test set\n",
    "y_pred_log_reg = log_reg.predict(X_test)\n",
    "\n",
    "# evaluating the model\n",
    "accuracy_log_reg = accuracy_score(y_test, y_pred_log_reg)\n",
    "conf_matrix_log_reg = confusion_matrix(y_test, y_pred_log_reg)\n",
    "class_report_log_reg = classification_report(y_test, y_pred_log_reg)\n",
    "\n",
    "print(f\"Accuracy: {accuracy_log_reg}\")\n",
    "print(\"Confusion Matrix:\")\n",
    "print(conf_matrix_log_reg)\n",
    "print(\"Classification Report:\")\n",
    "print(class_report_log_reg)"
   ]
  }
 ],
 "metadata": {
  "kernelspec": {
   "display_name": "venv",
   "language": "python",
   "name": "python3"
  },
  "language_info": {
   "codemirror_mode": {
    "name": "ipython",
    "version": 3
   },
   "file_extension": ".py",
   "mimetype": "text/x-python",
   "name": "python",
   "nbconvert_exporter": "python",
   "pygments_lexer": "ipython3",
   "version": "3.12.3"
  }
 },
 "nbformat": 4,
 "nbformat_minor": 2
}
