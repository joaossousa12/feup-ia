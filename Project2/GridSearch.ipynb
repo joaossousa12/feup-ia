{
 "cells": [
  {
   "cell_type": "code",
   "execution_count": 2,
   "metadata": {},
   "outputs": [],
   "source": [
    "import pandas as pd\n",
    "import matplotlib.pyplot as plt\n",
    "import numpy as np\n",
    "\n",
    "league_data_cleaned = pd.read_csv('data/league_data_cleaned.csv')"
   ]
  },
  {
   "cell_type": "code",
   "execution_count": 3,
   "metadata": {},
   "outputs": [
    {
     "data": {
      "text/plain": [
       "array([[    -4,    -11,    -12,      2,      0,     -2,      0,      6,\n",
       "          -400,    294, -29531,  -8690,   2559],\n",
       "       [    -4,     20,     -5,      1,      0,      0,      0,      6,\n",
       "          -373,    272, -28872,  -2468,  -6055],\n",
       "       [    -1,   -222,     -5,     -1,      0,     -2,      0,      8,\n",
       "          -340,    247, -30414,  -1338, -13483],\n",
       "       [     3,      5,     -2,     -1,      1,      1,      0,      4,\n",
       "          -377,    268, -25073,  -3736,   2237],\n",
       "       [    -4,      4,      4,      0,      1,      0,      0,      2,\n",
       "          -382,    274, -25952,  -1703,  11821],\n",
       "       [     1,     -9,    -12,     -2,     -1,     -3,      0,     13,\n",
       "          -357,    299, -28288,  -6411,  -4095],\n",
       "       [     0,   -106,      6,      2,      0,      0,      0,      5,\n",
       "          -403,    235, -28488,  -2114,   -988],\n",
       "       [     0,      7,      6,      1,      0,      0,      0,      6,\n",
       "          -358,    292, -24001,  -1501,   7191],\n",
       "       [     0,      7,     -4,     -1,      0,      1,      0,      5,\n",
       "          -396,    315, -26382,  -2714,   4607],\n",
       "       [    -3,      6,     -1,     -1,      1,      0,      0,      7,\n",
       "          -381,    226, -28710,  -3153,  -6836],\n",
       "       [    -2,     -5,     -1,     -2,     -1,      1,      0,     -2,\n",
       "          -356,    262, -28922,  -2453,  -5716],\n",
       "       [    -3,     -8,     -4,     -2,      0,     -1,      0,      7,\n",
       "          -424,    210, -28824,  -7784,  -4560],\n",
       "       [    -2,     -5,     -7,     -2,      0,     -1,      0,     10,\n",
       "          -392,    295, -29171,  -4593,   5110],\n",
       "       [     2,      3,      6,      2,      0,     -1,      0,      5,\n",
       "          -349,    306, -25872,   4259,   6895]], dtype=int64)"
      ]
     },
     "execution_count": 3,
     "metadata": {},
     "output_type": "execute_result"
    }
   ],
   "source": [
    "# We can extract the data in this format from pandas like this:\n",
    "column_names = league_data_cleaned.columns.tolist()\n",
    "column_names = column_names[1:-1]\n",
    "\n",
    "all_inputs = league_data_cleaned[column_names].values\n",
    "\n",
    "# Similarly, we can extract the class labels\n",
    "all_labels = league_data_cleaned['blueWin'].values\n",
    "\n",
    "# Make sure that you don't mix up the order of the entries\n",
    "# all_inputs[5] inputs should correspond to the class in all_labels[5]\n",
    "\n",
    "# Here's what a subset of our inputs looks like:\n",
    "all_inputs[:(len(column_names) +1)]"
   ]
  },
  {
   "cell_type": "code",
   "execution_count": 4,
   "metadata": {},
   "outputs": [],
   "source": [
    "from sklearn.model_selection import train_test_split\n",
    "\n",
    "(training_inputs,\n",
    " testing_inputs,\n",
    " training_classes,\n",
    " testing_classes) = train_test_split(all_inputs, all_labels, test_size=0.25, random_state=1)"
   ]
  },
  {
   "cell_type": "code",
   "execution_count": 5,
   "metadata": {},
   "outputs": [
    {
     "data": {
      "text/plain": [
       "0.6695293146160198"
      ]
     },
     "execution_count": 5,
     "metadata": {},
     "output_type": "execute_result"
    }
   ],
   "source": [
    "from sklearn.tree import DecisionTreeClassifier\n",
    "\n",
    "# Create the classifier\n",
    "classifier = DecisionTreeClassifier(random_state=0)\n",
    "\n",
    "# Train the classifier on the training set\n",
    "classifier.fit(training_inputs, training_classes)\n",
    "\n",
    "# Validate the classifier on the testing set using classification accuracy\n",
    "classifier.score(testing_inputs, testing_classes)"
   ]
  },
  {
   "cell_type": "markdown",
   "metadata": {},
   "source": [
    "We will experiment now 1000 times the classifier and draw a histogram of the accuracie"
   ]
  },
  {
   "cell_type": "code",
   "execution_count": 6,
   "metadata": {},
   "outputs": [
    {
     "data": {
      "text/plain": [
       "(array([  7.,  16.,  74., 168., 230., 240., 177.,  76.,   8.,   4.]),\n",
       " array([0.6478943 , 0.65175888, 0.65562345, 0.65948803, 0.6633526 ,\n",
       "        0.66721718, 0.67108175, 0.67494633, 0.6788109 , 0.68267547,\n",
       "        0.68654005]),\n",
       " <BarContainer object of 10 artists>)"
      ]
     },
     "execution_count": 6,
     "metadata": {},
     "output_type": "execute_result"
    },
    {
     "data": {
      "image/png": "[encoded data removed]",
      "text/plain": [
       "<Figure size 640x480 with 1 Axes>"
      ]
     },
     "metadata": {},
     "output_type": "display_data"
    }
   ],
   "source": [
    "model_accuracies = []\n",
    "\n",
    "for repetition in range(1000):\n",
    "    (training_inputs,\n",
    "     testing_inputs,\n",
    "     training_classes,\n",
    "     testing_classes) = train_test_split(all_inputs, all_labels, test_size=0.25)\n",
    "    \n",
    "    classifier = DecisionTreeClassifier(random_state=0)\n",
    "\n",
    "    classifier.fit(training_inputs, training_classes)\n",
    "\n",
    "    model_accuracies.append(classifier.score(testing_inputs, testing_classes))\n",
    "\n",
    "plt.hist(model_accuracies)"
   ]
  },
  {
   "cell_type": "code",
   "execution_count": 7,
   "metadata": {},
   "outputs": [
    {
     "data": {
      "text/plain": [
       "Text(0.5, 1.0, 'Average score: 0.6652067257628425')"
      ]
     },
     "execution_count": 7,
     "metadata": {},
     "output_type": "execute_result"
    },
    {
     "data": {
      "image/png": "[encoded data removed]",
      "text/plain": [
       "<Figure size 640x480 with 1 Axes>"
      ]
     },
     "metadata": {},
     "output_type": "display_data"
    }
   ],
   "source": [
    "from sklearn.model_selection import cross_val_score\n",
    "\n",
    "decision_tree_classifier = DecisionTreeClassifier()\n",
    "\n",
    "# cross_val_score returns a list of the scores, which we can visualize\n",
    "# to get a reasonable estimate of our classifier's performance\n",
    "cv_scores = cross_val_score(decision_tree_classifier, all_inputs, all_labels, cv=10)\n",
    "plt.hist(cv_scores)\n",
    "plt.title('Average score: {}'.format(np.mean(cv_scores)))"
   ]
  },
  {
   "cell_type": "code",
   "execution_count": 8,
   "metadata": {},
   "outputs": [
    {
     "data": {
      "text/plain": [
       "Text(0.5, 1.0, 'Average score: 0.7317278519805541')"
      ]
     },
     "execution_count": 8,
     "metadata": {},
     "output_type": "execute_result"
    },
    {
     "data": {
      "image/png": "[encoded data removed]",
      "text/plain": [
       "<Figure size 640x480 with 1 Axes>"
      ]
     },
     "metadata": {},
     "output_type": "display_data"
    }
   ],
   "source": [
    "decision_tree_classifier = DecisionTreeClassifier(max_depth=1)\n",
    "\n",
    "cv_scores = cross_val_score(decision_tree_classifier, all_inputs, all_labels, cv=10)\n",
    "plt.hist(cv_scores)\n",
    "plt.title('Average score: {}'.format(np.mean(cv_scores)))"
   ]
  },
  {
   "cell_type": "code",
   "execution_count": 9,
   "metadata": {},
   "outputs": [],
   "source": [
    "from sklearn.model_selection import GridSearchCV, RandomizedSearchCV\n",
    "\n",
    "decision_tree_classifier = DecisionTreeClassifier()\n",
    "\n",
    "parameter_grid = {'max_depth': [1,2,3,4,5,6,7,8,9,10,11,12,13,14],\n",
    "                  'max_features': [1,2,3,4,5,6,7,8,9,10,11,12,13]}"
   ]
  },
  {
   "cell_type": "code",
   "execution_count": 10,
   "metadata": {},
   "outputs": [
    {
     "name": "stdout",
     "output_type": "stream",
     "text": [
      "Best score: 0.7443627338563\n",
      "Best parameters: {'max_depth': 6, 'max_features': 6}\n"
     ]
    }
   ],
   "source": [
    "# Simple GridSearch and visual representation\n",
    "\n",
    "grid_search = GridSearchCV( decision_tree_classifier, parameter_grid)\n",
    "\n",
    "grid_search.fit(all_inputs, all_labels)\n",
    "\n",
    "print('Best score: {}'.format(grid_search.best_score_))\n",
    "print('Best parameters: {}'.format(grid_search.best_params_))"
   ]
  }
 ],
 "metadata": {
  "kernelspec": {
   "display_name": "base",
   "language": "python",
   "name": "python3"
  },
  "language_info": {
   "codemirror_mode": {
    "name": "ipython",
    "version": 3
   },
   "file_extension": ".py",
   "mimetype": "text/x-python",
   "name": "python",
   "nbconvert_exporter": "python",
   "pygments_lexer": "ipython3",
   "version": "3.11.5"
  }
 },
 "nbformat": 4,
 "nbformat_minor": 2
}
