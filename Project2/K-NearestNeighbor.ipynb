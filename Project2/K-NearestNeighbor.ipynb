{
 "cells": [
  {
   "cell_type": "markdown",
   "metadata": {},
   "source": [
    "# K-Nearest Neighbors"
   ]
  },
  {
   "cell_type": "markdown",
   "metadata": {},
   "source": [
    "## Imports"
   ]
  },
  {
   "cell_type": "code",
   "execution_count": 34,
   "metadata": {},
   "outputs": [],
   "source": [
    "import pandas as pd\n",
    "import matplotlib.pyplot as plt\n",
    "import numpy as np\n",
    "import seaborn as sns\n",
    "from sklearn.model_selection import train_test_split, cross_val_score\n",
    "from sklearn.neighbors import KNeighborsClassifier\n",
    "from sklearn.preprocessing import StandardScaler\n",
    "from sklearn.metrics import accuracy_score, precision_score, recall_score, classification_report, ConfusionMatrixDisplay, confusion_matrix\n",
    "import time"
   ]
  },
  {
   "cell_type": "code",
   "execution_count": 35,
   "metadata": {},
   "outputs": [
    {
     "data": {
      "text/html": [
       "<div>\n",
       "<style scoped>\n",
       "    .dataframe tbody tr th:only-of-type {\n",
       "        vertical-align: middle;\n",
       "    }\n",
       "\n",
       "    .dataframe tbody tr th {\n",
       "        vertical-align: top;\n",
       "    }\n",
       "\n",
       "    .dataframe thead th {\n",
       "        text-align: right;\n",
       "    }\n",
       "</style>\n",
       "<table border=\"1\" class=\"dataframe\">\n",
       "  <thead>\n",
       "    <tr style=\"text-align: right;\">\n",
       "      <th></th>\n",
       "      <th>matchId</th>\n",
       "      <th>blueTeamFirstBlood</th>\n",
       "      <th>blueTeamControlWardsPlaced_diff</th>\n",
       "      <th>blueTeamWardsPlaced_diff</th>\n",
       "      <th>blueTeamTotalKills_diff</th>\n",
       "      <th>blueTeamDragonKills_diff</th>\n",
       "      <th>blueTeamHeraldKills_diff</th>\n",
       "      <th>blueTeamTowersDestroyed_diff</th>\n",
       "      <th>blueTeamInhibitorsDestroyed_diff</th>\n",
       "      <th>blueTeamTurretPlatesDestroyed_diff</th>\n",
       "      <th>blueTeamMinionsKilled_diff</th>\n",
       "      <th>blueTeamJungleMinions_diff</th>\n",
       "      <th>blueTeamTotalGold_diff</th>\n",
       "      <th>blueTeamXp_diff</th>\n",
       "      <th>blueTeamTotalDamageToChamps_diff</th>\n",
       "      <th>blueWin</th>\n",
       "    </tr>\n",
       "  </thead>\n",
       "  <tbody>\n",
       "    <tr>\n",
       "      <th>0</th>\n",
       "      <td>EUW1_6882489515</td>\n",
       "      <td>0</td>\n",
       "      <td>-4</td>\n",
       "      <td>-11</td>\n",
       "      <td>-12</td>\n",
       "      <td>2</td>\n",
       "      <td>0</td>\n",
       "      <td>-2</td>\n",
       "      <td>0</td>\n",
       "      <td>-6</td>\n",
       "      <td>-12</td>\n",
       "      <td>12</td>\n",
       "      <td>-5714</td>\n",
       "      <td>-2815</td>\n",
       "      <td>-5397</td>\n",
       "      <td>1</td>\n",
       "    </tr>\n",
       "    <tr>\n",
       "      <th>1</th>\n",
       "      <td>EUW1_6882416210</td>\n",
       "      <td>0</td>\n",
       "      <td>-4</td>\n",
       "      <td>20</td>\n",
       "      <td>-5</td>\n",
       "      <td>1</td>\n",
       "      <td>0</td>\n",
       "      <td>0</td>\n",
       "      <td>0</td>\n",
       "      <td>-6</td>\n",
       "      <td>-25</td>\n",
       "      <td>22</td>\n",
       "      <td>-1118</td>\n",
       "      <td>210</td>\n",
       "      <td>-768</td>\n",
       "      <td>0</td>\n",
       "    </tr>\n",
       "    <tr>\n",
       "      <th>2</th>\n",
       "      <td>EUW1_6881092720</td>\n",
       "      <td>0</td>\n",
       "      <td>-1</td>\n",
       "      <td>-222</td>\n",
       "      <td>-5</td>\n",
       "      <td>-1</td>\n",
       "      <td>0</td>\n",
       "      <td>-2</td>\n",
       "      <td>0</td>\n",
       "      <td>-8</td>\n",
       "      <td>-9</td>\n",
       "      <td>12</td>\n",
       "      <td>-2384</td>\n",
       "      <td>37</td>\n",
       "      <td>-4945</td>\n",
       "      <td>0</td>\n",
       "    </tr>\n",
       "    <tr>\n",
       "      <th>3</th>\n",
       "      <td>EUW1_6879405717</td>\n",
       "      <td>1</td>\n",
       "      <td>3</td>\n",
       "      <td>5</td>\n",
       "      <td>-2</td>\n",
       "      <td>-1</td>\n",
       "      <td>1</td>\n",
       "      <td>1</td>\n",
       "      <td>0</td>\n",
       "      <td>-4</td>\n",
       "      <td>-23</td>\n",
       "      <td>-3</td>\n",
       "      <td>2176</td>\n",
       "      <td>-603</td>\n",
       "      <td>3109</td>\n",
       "      <td>0</td>\n",
       "    </tr>\n",
       "    <tr>\n",
       "      <th>4</th>\n",
       "      <td>EUW1_6879389461</td>\n",
       "      <td>0</td>\n",
       "      <td>-4</td>\n",
       "      <td>4</td>\n",
       "      <td>4</td>\n",
       "      <td>0</td>\n",
       "      <td>1</td>\n",
       "      <td>0</td>\n",
       "      <td>0</td>\n",
       "      <td>-2</td>\n",
       "      <td>-12</td>\n",
       "      <td>4</td>\n",
       "      <td>1720</td>\n",
       "      <td>1591</td>\n",
       "      <td>7431</td>\n",
       "      <td>1</td>\n",
       "    </tr>\n",
       "  </tbody>\n",
       "</table>\n",
       "</div>"
      ],
      "text/plain": [
       "           matchId  blueTeamFirstBlood  blueTeamControlWardsPlaced_diff  \\\n",
       "0  EUW1_6882489515                   0                               -4   \n",
       "1  EUW1_6882416210                   0                               -4   \n",
       "2  EUW1_6881092720                   0                               -1   \n",
       "3  EUW1_6879405717                   1                                3   \n",
       "4  EUW1_6879389461                   0                               -4   \n",
       "\n",
       "   blueTeamWardsPlaced_diff  blueTeamTotalKills_diff  \\\n",
       "0                       -11                      -12   \n",
       "1                        20                       -5   \n",
       "2                      -222                       -5   \n",
       "3                         5                       -2   \n",
       "4                         4                        4   \n",
       "\n",
       "   blueTeamDragonKills_diff  blueTeamHeraldKills_diff  \\\n",
       "0                         2                         0   \n",
       "1                         1                         0   \n",
       "2                        -1                         0   \n",
       "3                        -1                         1   \n",
       "4                         0                         1   \n",
       "\n",
       "   blueTeamTowersDestroyed_diff  blueTeamInhibitorsDestroyed_diff  \\\n",
       "0                            -2                                 0   \n",
       "1                             0                                 0   \n",
       "2                            -2                                 0   \n",
       "3                             1                                 0   \n",
       "4                             0                                 0   \n",
       "\n",
       "   blueTeamTurretPlatesDestroyed_diff  blueTeamMinionsKilled_diff  \\\n",
       "0                                  -6                         -12   \n",
       "1                                  -6                         -25   \n",
       "2                                  -8                          -9   \n",
       "3                                  -4                         -23   \n",
       "4                                  -2                         -12   \n",
       "\n",
       "   blueTeamJungleMinions_diff  blueTeamTotalGold_diff  blueTeamXp_diff  \\\n",
       "0                          12                   -5714            -2815   \n",
       "1                          22                   -1118              210   \n",
       "2                          12                   -2384               37   \n",
       "3                          -3                    2176             -603   \n",
       "4                           4                    1720             1591   \n",
       "\n",
       "   blueTeamTotalDamageToChamps_diff  blueWin  \n",
       "0                             -5397        1  \n",
       "1                              -768        0  \n",
       "2                             -4945        0  \n",
       "3                              3109        0  \n",
       "4                              7431        1  "
      ]
     },
     "execution_count": 35,
     "metadata": {},
     "output_type": "execute_result"
    }
   ],
   "source": [
    "data = pd.read_csv('data/league_data_cleaned.csv')\n",
    "\n",
    "data.head()"
   ]
  },
  {
   "cell_type": "code",
   "execution_count": 36,
   "metadata": {},
   "outputs": [
    {
     "data": {
      "text/plain": [
       "(24218, 16)"
      ]
     },
     "execution_count": 36,
     "metadata": {},
     "output_type": "execute_result"
    }
   ],
   "source": [
    "data.shape"
   ]
  },
  {
   "cell_type": "code",
   "execution_count": 37,
   "metadata": {},
   "outputs": [],
   "source": [
    "X = data.drop(['matchId', 'blueWin'], axis=1)  \n",
    "y = data['blueWin']"
   ]
  },
  {
   "cell_type": "code",
   "execution_count": 38,
   "metadata": {},
   "outputs": [],
   "source": [
    "X_train, X_test, y_train, y_test = train_test_split(X, y, test_size=0.2)"
   ]
  },
  {
   "cell_type": "code",
   "execution_count": 39,
   "metadata": {},
   "outputs": [],
   "source": [
    "scaler = StandardScaler()\n",
    "X_train = scaler.fit_transform(X_train)\n",
    "X_test = scaler.transform(X_test)"
   ]
  },
  {
   "cell_type": "markdown",
   "metadata": {},
   "source": [
    "We can now train the model. First, we test with a fixed k-value of 20. We create n instances of the KNN model, then fit this to our training data."
   ]
  },
  {
   "cell_type": "code",
   "execution_count": 40,
   "metadata": {},
   "outputs": [
    {
     "name": "stdout",
     "output_type": "stream",
     "text": [
      "Training time: 0.005501985549926758\n"
     ]
    }
   ],
   "source": [
    "knn = KNeighborsClassifier(n_neighbors=20)\n",
    "\n",
    "start_time = time.time()\n",
    "knn.fit(X_train, y_train)\n",
    "end_time = time.time()\n",
    "\n",
    "print(f\"Training time: {end_time - start_time}\")"
   ]
  },
  {
   "cell_type": "markdown",
   "metadata": {},
   "source": [
    "With the model now trained we can make predictions on the test dataset."
   ]
  },
  {
   "cell_type": "code",
   "execution_count": 41,
   "metadata": {},
   "outputs": [],
   "source": [
    "y_pred = knn.predict(X_test)"
   ]
  },
  {
   "cell_type": "markdown",
   "metadata": {},
   "source": [
    "To evaluate this model we use accuracy by checking the predictions against the actual values in the test set and count up how many the model got right."
   ]
  },
  {
   "cell_type": "code",
   "execution_count": 42,
   "metadata": {},
   "outputs": [
    {
     "name": "stdout",
     "output_type": "stream",
     "text": [
      "Accuracy: 0.7613542526837325\n",
      "              precision    recall  f1-score   support\n",
      "\n",
      "           0       0.75      0.79      0.77      2470\n",
      "           1       0.77      0.73      0.75      2374\n",
      "\n",
      "    accuracy                           0.76      4844\n",
      "   macro avg       0.76      0.76      0.76      4844\n",
      "weighted avg       0.76      0.76      0.76      4844\n",
      "\n"
     ]
    }
   ],
   "source": [
    "accuracy = accuracy_score(y_test, y_pred)\n",
    "print('Accuracy:', accuracy)\n",
    "print(classification_report(y_test, y_pred))"
   ]
  },
  {
   "cell_type": "markdown",
   "metadata": {},
   "source": [
    "With an accuracy of 73%, which represents the proportion of correctly classified instances (positive and negative) out of the total instances. \n",
    "\n",
    "For class 0 (positives), the precision was 73% -- proportion of true positives out of all instances classified as positive, with 76% being correctly predicted as positive, which has a F1 score of 0.74. There are 2425 instances of class 0.\n",
    "\n",
    "For class 1 (negatives), the precision was 75% -- proportion of true negatives out of all instances classified as negative, with 71% being correctly predicted as negative, which has a F1 score of 0.73. There are 2419 instances of class 1."
   ]
  },
  {
   "cell_type": "markdown",
   "metadata": {},
   "source": [
    "## Cross-validation\n",
    "\n",
    "To find the best value for k we loop through many different values. We store our result and use cross-validation to find the accuracy scores. For our implementation, we use scikit-learn's cross_val_score. We split the data into 10 parts, 9 will be used to train and 1 to test the result. It will loop through each group and give an accuracy score to average and find the best model."
   ]
  },
  {
   "cell_type": "code",
   "execution_count": 43,
   "metadata": {},
   "outputs": [],
   "source": [
    "k_values = [i for i in range (1, 51)]\n",
    "scores = []\n",
    "\n",
    "scaler = StandardScaler()\n",
    "X = scaler.fit_transform(X)\n",
    "\n",
    "for k in k_values:\n",
    "    knn = KNeighborsClassifier(n_neighbors=k)\n",
    "    score = cross_val_score(knn, X, y, cv=10)\n",
    "    scores.append(np.mean(score))"
   ]
  },
  {
   "cell_type": "markdown",
   "metadata": {},
   "source": [
    "We can see that after 25 k-values, the accuracy score remains the same at around 74% and 75%."
   ]
  },
  {
   "cell_type": "code",
   "execution_count": 44,
   "metadata": {},
   "outputs": [
    {
     "data": {
      "text/plain": [
       "Text(0, 0.5, 'Accuracy Score')"
      ]
     },
     "execution_count": 44,
     "metadata": {},
     "output_type": "execute_result"
    },
    {
     "data": {
      "image/png": "[encoded data removed]",
      "text/plain": [
       "<Figure size 640x480 with 1 Axes>"
      ]
     },
     "metadata": {},
     "output_type": "display_data"
    }
   ],
   "source": [
    "sns.lineplot(x = k_values, y = scores, markers= 'o')\n",
    "plt.xlabel(\"K Vaues\")\n",
    "plt.ylabel(\"Accuracy Score\")"
   ]
  },
  {
   "cell_type": "markdown",
   "metadata": {},
   "source": [
    "Now that we've found the best k values, we can train our model with it."
   ]
  },
  {
   "cell_type": "code",
   "execution_count": 45,
   "metadata": {},
   "outputs": [
    {
     "name": "stdout",
     "output_type": "stream",
     "text": [
      "Time to train: 0.005700826644897461\n"
     ]
    }
   ],
   "source": [
    "best_index = np.argmax(scores)\n",
    "best_k = k_values[best_index]\n",
    "\n",
    "knn = KNeighborsClassifier(n_neighbors=best_k)\n",
    "start_time = time.time()\n",
    "knn.fit(X_train, y_train)\n",
    "end_time = time.time()\n",
    "\n",
    "print('Time to train:', end_time - start_time)"
   ]
  },
  {
   "cell_type": "code",
   "execution_count": 46,
   "metadata": {},
   "outputs": [
    {
     "name": "stdout",
     "output_type": "stream",
     "text": [
      "Accuracy: 0.7650701899256812\n",
      "Precision: 0.7679965307892455\n",
      "Recall: 0.7459983150800337\n"
     ]
    },
    {
     "data": {
      "image/png": "[encoded data removed]",
      "text/plain": [
       "<Figure size 640x480 with 2 Axes>"
      ]
     },
     "metadata": {},
     "output_type": "display_data"
    }
   ],
   "source": [
    "y_pred = knn.predict(X_test)\n",
    "\n",
    "conf_matrix = confusion_matrix(y_test, y_pred)\n",
    "\n",
    "accuracy = accuracy_score(y_test, y_pred)\n",
    "precision = precision_score(y_test, y_pred)\n",
    "recall = recall_score(y_test, y_pred)\n",
    "\n",
    "print('Accuracy:', accuracy)\n",
    "print('Precision:', precision)\n",
    "print('Recall:', recall)\n",
    "\n",
    "disp = ConfusionMatrixDisplay(confusion_matrix=conf_matrix)\n",
    "disp.plot()\n",
    "plt.show()"
   ]
  }
 ],
 "metadata": {
  "kernelspec": {
   "display_name": "base",
   "language": "python",
   "name": "python3"
  },
  "language_info": {
   "codemirror_mode": {
    "name": "ipython",
    "version": 3
   },
   "file_extension": ".py",
   "mimetype": "text/x-python",
   "name": "python",
   "nbconvert_exporter": "python",
   "pygments_lexer": "ipython3",
   "version": "3.12.3"
  }
 },
 "nbformat": 4,
 "nbformat_minor": 2
}
